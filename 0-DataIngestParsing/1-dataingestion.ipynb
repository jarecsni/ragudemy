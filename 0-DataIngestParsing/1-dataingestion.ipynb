{
 "cells": [
  {
   "cell_type": "markdown",
   "id": "2e26be50",
   "metadata": {},
   "source": [
    "### Introduction to Data Ingestion and Parsing\n"
   ]
  },
  {
   "cell_type": "code",
   "execution_count": 2,
   "id": "b31ae598",
   "metadata": {},
   "outputs": [],
   "source": [
    "import os\n",
    "from typing import List, Dict, Any\n",
    "import pandas\n"
   ]
  },
  {
   "cell_type": "code",
   "execution_count": 4,
   "id": "3d3bf816",
   "metadata": {},
   "outputs": [
    {
     "name": "stdout",
     "output_type": "stream",
     "text": [
      "Set up is complete!\n"
     ]
    }
   ],
   "source": [
    "from langchain_core.documents import Document\n",
    "from langchain.text_splitter import (\n",
    "    RecursiveCharacterTextSplitter,\n",
    "    CharacterTextSplitter,\n",
    "    TokenTextSplitter,\n",
    ")\n",
    "print(\"Set up is complete!\")\n"
   ]
  },
  {
   "cell_type": "markdown",
   "id": "5dd97206",
   "metadata": {},
   "source": [
    "### Understanding the Document Structure in LangChain"
   ]
  },
  {
   "cell_type": "code",
   "execution_count": 5,
   "id": "c1838d94",
   "metadata": {},
   "outputs": [
    {
     "name": "stdout",
     "output_type": "stream",
     "text": [
      "Document structure\n",
      "Content: This is the main text content that will be embedded and searched.\n",
      "Metadata: {'source': 'example.txt', 'page': 1, 'author': 'Johnny Boy', 'date_created': '2025-09-02', 'custom_field': 'custom_value'}\n"
     ]
    }
   ],
   "source": [
    "## Create a simple document\n",
    "doc = Document(\n",
    "    page_content=\"This is the main text content that will be embedded and searched.\",\n",
    "    metadata={\n",
    "        \"source\": \"example.txt\",\n",
    "        \"page\": 1,\n",
    "        \"author\": \"Johnny Boy\",\n",
    "        \"date_created\": \"2025-09-02\",\n",
    "        \"custom_field\": \"custom_value\",\n",
    "    },\n",
    ")\n",
    "print(\"Document structure\");\n",
    "print(f\"Content: {doc.page_content}\");\n",
    "print(f\"Metadata: {doc.metadata}\");"
   ]
  },
  {
   "cell_type": "markdown",
   "id": "e21c9efb",
   "metadata": {},
   "source": [
    "### Text Files (.txt) - The simplest case {#2-text-files}"
   ]
  },
  {
   "cell_type": "code",
   "execution_count": 2,
   "id": "e4292be3",
   "metadata": {},
   "outputs": [],
   "source": [
    "## Create a simple text file\n",
    "import os\n",
    "os.makedirs(\"data/text_files\", exist_ok=True)\n"
   ]
  },
  {
   "cell_type": "code",
   "execution_count": 5,
   "id": "295cb674",
   "metadata": {},
   "outputs": [
    {
     "name": "stdout",
     "output_type": "stream",
     "text": [
      "data/text_files/python_intro.txt created\n",
      "data/text_files/machine_learning.txt created\n"
     ]
    }
   ],
   "source": [
    "sample_texts = {\n",
    "    \"data/text_files/python_intro.txt\": \"\"\"1-dataingestion.ipynb\n",
    "Python's dynamic typing allows flexible code but can cause runtime errors.\n",
    "The GIL prevents true multithreading, making multiprocessing better for CPU tasks.\n",
    "List comprehensions replace for loops with readable one-liners.\n",
    "Python emphasizes readability and the principle of one obvious way.\n",
    "The standard library is extensive, earning Python the 'batteries included' nickname.\n",
    "Duck typing determines suitability by methods, not actual type.\n",
    "Python's interpreter enables rapid prototyping and interactive development.\n",
    "Data science popularity comes from NumPy, Pandas, and Scikit-learn libraries.\n",
    "Python's natural language syntax makes it ideal for beginners.\n",
    "Virtual environments solve dependency conflicts between projects\n",
    "    \"\"\",\n",
    "    \"data/text_files/machine_learning.txt\": \"\"\"\n",
    "Machine learning algorithms learn patterns from data without explicit programming.\n",
    "Supervised learning uses labeled data to predict outcomes on new examples.\n",
    "Unsupervised learning finds hidden structures in data without target labels.\n",
    "Neural networks mimic brain neurons with interconnected layers of nodes.\n",
    "Deep learning uses multiple hidden layers to model complex relationships.\n",
    "Overfitting occurs when models memorize training data but fail on new data.\n",
    "Cross-validation splits data to test model performance on unseen examples.\n",
    "Feature engineering transforms raw data into meaningful model inputs.\n",
    "Gradient descent optimizes model parameters by minimizing prediction errors.\n",
    "Ensemble methods combine multiple models to improve overall accuracy.\n",
    "    \"\"\"\n",
    "}\n",
    "\n",
    "for filepath, content in sample_texts.items():\n",
    "    with open(filepath, \"w\", encoding=\"utf-8\") as f:\n",
    "        f.write(content)\n",
    "    print(f\"{filepath} created\")\n"
   ]
  }
 ],
 "metadata": {
  "kernelspec": {
   "display_name": ".venv",
   "language": "python",
   "name": "python3"
  },
  "language_info": {
   "codemirror_mode": {
    "name": "ipython",
    "version": 3
   },
   "file_extension": ".py",
   "mimetype": "text/x-python",
   "name": "python",
   "nbconvert_exporter": "python",
   "pygments_lexer": "ipython3",
   "version": "3.13.5"
  }
 },
 "nbformat": 4,
 "nbformat_minor": 5
}
