{
 "cells": [
  {
   "cell_type": "markdown",
   "id": "2e26be50",
   "metadata": {},
   "source": [
    "### Introduction to Data Ingestion and Parsing\n"
   ]
  },
  {
   "cell_type": "code",
   "execution_count": 2,
   "id": "b31ae598",
   "metadata": {},
   "outputs": [],
   "source": [
    "import os\n",
    "from typing import List, Dict, Any\n",
    "import pandas\n"
   ]
  },
  {
   "cell_type": "code",
   "execution_count": 4,
   "id": "3d3bf816",
   "metadata": {},
   "outputs": [
    {
     "name": "stdout",
     "output_type": "stream",
     "text": [
      "Set up is complete!\n"
     ]
    }
   ],
   "source": [
    "from langchain_core.documents import Document\n",
    "from langchain.text_splitter import (\n",
    "    RecursiveCharacterTextSplitter,\n",
    "    CharacterTextSplitter,\n",
    "    TokenTextSplitter,\n",
    ")\n",
    "print(\"Set up is complete!\")\n"
   ]
  },
  {
   "cell_type": "markdown",
   "id": "5dd97206",
   "metadata": {},
   "source": [
    "### Understanding the Document Structure in LangChain"
   ]
  },
  {
   "cell_type": "code",
   "execution_count": 5,
   "id": "c1838d94",
   "metadata": {},
   "outputs": [
    {
     "name": "stdout",
     "output_type": "stream",
     "text": [
      "Document structure\n",
      "Content: This is the main text content that will be embedded and searched.\n",
      "Metadata: {'source': 'example.txt', 'page': 1, 'author': 'Johnny Boy', 'date_created': '2025-09-02', 'custom_field': 'custom_value'}\n"
     ]
    }
   ],
   "source": [
    "## Create a simple document\n",
    "doc = Document(\n",
    "    page_content=\"This is the main text content that will be embedded and searched.\",\n",
    "    metadata={\n",
    "        \"source\": \"example.txt\",\n",
    "        \"page\": 1,\n",
    "        \"author\": \"Johnny Boy\",\n",
    "        \"date_created\": \"2025-09-02\",\n",
    "        \"custom_field\": \"custom_value\",\n",
    "    },\n",
    ")\n",
    "print(\"Document structure\");\n",
    "print(f\"Content: {doc.page_content}\");\n",
    "print(f\"Metadata: {doc.metadata}\");"
   ]
  }
 ],
 "metadata": {
  "kernelspec": {
   "display_name": ".venv",
   "language": "python",
   "name": "python3"
  },
  "language_info": {
   "codemirror_mode": {
    "name": "ipython",
    "version": 3
   },
   "file_extension": ".py",
   "mimetype": "text/x-python",
   "name": "python",
   "nbconvert_exporter": "python",
   "pygments_lexer": "ipython3",
   "version": "3.13.5"
  }
 },
 "nbformat": 4,
 "nbformat_minor": 5
}
