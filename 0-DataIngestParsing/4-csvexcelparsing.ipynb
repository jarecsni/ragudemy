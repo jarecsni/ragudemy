{
 "cells": [
  {
   "cell_type": "markdown",
   "id": "1d577d81",
   "metadata": {},
   "source": [
    "### CSV and Excel Parsing - Structured Data"
   ]
  },
  {
   "cell_type": "code",
   "execution_count": 7,
   "id": "b8179765",
   "metadata": {},
   "outputs": [],
   "source": [
    "import pandas as pd\n",
    "import os"
   ]
  },
  {
   "cell_type": "code",
   "execution_count": null,
   "id": "69b86dd9",
   "metadata": {},
   "outputs": [],
   "source": [
    "os.makedirs(\"data/structured_files2\", exist_ok=True)\n",
    "\n",
    "# Create sample data\n",
    "data = {\n",
    "    'Product': ['Laptop', 'Mouse', 'Keyboard', 'Monitor', 'Webcam'],\n",
    "    'Category': ['Electronics', 'Accessories', 'Accessories', 'Electronics', 'Electronics'],\n",
    "    'Price': [999.99, 29.99, 79.99, 299.99, 89.99],\n",
    "    'Stock': [50, 200, 150, 75, 100],\n",
    "    'Description': [\n",
    "        'High-performance laptop with 16GB RAM and 512GB SSD',\n",
    "        'Wireless optical mouse with ergonomic design',\n",
    "        'Mechanical keyboard with RGB backlighting',\n",
    "        '27-inch 4K monitor with HDR support',\n",
    "        '1080p webcam with noise cancellation'\n",
    "    ]\n",
    "}\n",
    "\n",
    "# Create DataFrame\n",
    "df = pd.DataFrame(data)\n",
    "\n",
    "df.to_csv(\"data/structured_files2/products.csv\", index=False)\n"
   ]
  },
  {
   "cell_type": "code",
   "execution_count": 10,
   "id": "87c01bf8",
   "metadata": {},
   "outputs": [],
   "source": [
    "# Save as Excel with multiple sheets\n",
    "with pd.ExcelWriter('data/structured_files2/inventory.xlsx') as writer:\n",
    "    df.to_excel(writer, sheet_name='Products', index=False)\n",
    "    \n",
    "    # Add another sheet\n",
    "    summary_data = {\n",
    "        'Category': ['Electronics', 'Accessories'],\n",
    "        'Total_Items': [3, 2],\n",
    "        'Total_Value': [1389.97, 109.98]\n",
    "    }\n",
    "    pd.DataFrame(summary_data).to_excel(writer, sheet_name='Summary', index=False)"
   ]
  },
  {
   "cell_type": "markdown",
   "id": "cd5fc779",
   "metadata": {},
   "source": [
    "### CSV Processing"
   ]
  },
  {
   "cell_type": "code",
   "execution_count": 11,
   "id": "0720ef5c",
   "metadata": {},
   "outputs": [],
   "source": [
    "from langchain_community.document_loaders import CSVLoader\n",
    "from langchain_community.document_loaders import UnstructuredCSVLoader\n"
   ]
  },
  {
   "cell_type": "code",
   "execution_count": null,
   "id": "f571a8ef",
   "metadata": {},
   "outputs": [],
   "source": [
    "# Method 1: CSVLoader - Each row becomes a document\n",
    "print(\"CSVLoader - Row-based Documents\")\n",
    "\n",
    "csv_loader = CSVLoader(\n",
    "    file_path='data/structured_files/products.csv',\n",
    "    encoding='utf-8',\n",
    "    csv_args={\n",
    "        'delimiter': ',',\n",
    "        'quotechar': '\"',\n",
    "    }\n",
    ")\n",
    "\n",
    "csv_docs = csv_loader.load()\n",
    "print(f\"Loaded {len(csv_docs)} documents (one per row)\")\n",
    "print(\"\\nFirst document:\")\n",
    "print(f\"Content: {csv_docs[0].page_content}\")\n",
    "print(f\"Meta {csv_docs[0].metadata}\")\n"
   ]
  },
  {
   "cell_type": "code",
   "execution_count": null,
   "id": "0c839a17",
   "metadata": {},
   "outputs": [],
   "source": [
    "from langchain_core.documents import Document\n",
    "# Method 2: Custom CSV processing for better control\n",
    "print(\"\\n2. Custom CSV Processing\")\n",
    "\n",
    "\n",
    "def process_csv_intelligently(filepath: str) -> list[Document]:\n",
    "    \"\"\"Process CSV with intelligent document creation\"\"\"\n",
    "    df = pd.read_csv(filepath)\n",
    "    documents = []\n",
    "\n",
    "    # Strategy 1: One document per row with structured content\n",
    "    for idx, row in df.iterrows():\n",
    "        # Create structured content\n",
    "        content = f\"\"\"Product Information:\n",
    "        Name: {row['Product']}\n",
    "        Category: {row['Category']}\n",
    "        Price: ${row['Price']}\n",
    "        Stock: {row['Stock']} units\n",
    "        Description: {row['Description']}\"\"\"\n",
    "\n",
    "        # Create document with rich metadata\n",
    "        doc = Document(\n",
    "            page_content=content,\n",
    "            metadata={\n",
    "                'source': filepath,\n",
    "                'row_index': idx,\n",
    "                'product_name': row['Product'],\n",
    "                'category': row['Category'],\n",
    "                'price': row['Price'],\n",
    "                'data_type': 'product_info'\n",
    "            }\n",
    "        )\n",
    "        documents.append(doc)\n",
    "    return documents\n",
    "\n",
    "process_csv_intelligently(\"data/structured_files2/products.csv\")\n"
   ]
  },
  {
   "cell_type": "markdown",
   "id": "851bebbf",
   "metadata": {},
   "source": [
    "### Excel Processing"
   ]
  },
  {
   "cell_type": "code",
   "execution_count": null,
   "id": "9257a6a7",
   "metadata": {},
   "outputs": [],
   "source": [
    "# Method 1: Using pandas for full control\n",
    "print(\"1. Pandas-based Excel Processing\")\n",
    "def process_excel_with_pandas(filepath: str) -> list[Document]:\n",
    "    \"\"\"Process Excel with sheet awareness\"\"\"\n",
    "    documents = []\n",
    "    \n",
    "    # Read all sheets\n",
    "    excel_file = pd.ExcelFile(filepath)\n",
    "    \n",
    "    for sheet_name in excel_file.sheet_names:\n",
    "        df = pd.read_excel(filepath, sheet_name=sheet_name)\n",
    "        \n",
    "        # Create document for each sheet\n",
    "        sheet_content = f\"Sheet: {sheet_name}\\n\"\n",
    "        sheet_content += f\"Columns: {', '.join(df.columns)}\\n\"\n",
    "        sheet_content += f\"Rows: {len(df)}\\n\\n\"\n",
    "        sheet_content += df.to_string(index=False)\n",
    "        \n",
    "        doc = Document(\n",
    "            page_content=sheet_content,\n",
    "            metadata={\n",
    "                'source': filepath,\n",
    "                'sheet_name': sheet_name,\n",
    "                'num_rows': len(df),\n",
    "                'num_columns': len(df.columns),\n",
    "                'data_type': 'excel_sheet'\n",
    "            }\n",
    "        )\n",
    "        documents.append(doc)\n",
    "    \n",
    "    return documents\n",
    "\n",
    "excel_docs = process_excel_with_pandas(\"data/structured_files2/inventory.xlsx\")\n",
    "print(f\"Loaded {len(excel_docs)} documents\")\n",
    "print(excel_docs)\n"
   ]
  },
  {
   "cell_type": "code",
   "execution_count": null,
   "id": "7851b731",
   "metadata": {},
   "outputs": [
    {
     "name": "stdout",
     "output_type": "stream",
     "text": [
      "\n",
      "2️⃣ UnstructuredExcelLoader\n",
      "  ✅ Handles complex Excel features\n",
      "  ✅ Preserves formatting info\n",
      "  ❌ Requires unstructured library\n",
      "[Document(metadata={'source': 'data/structured_files/inventory.xlsx', 'file_directory': 'data/structured_files', 'filename': 'inventory.xlsx', 'last_modified': '2025-09-14T22:12:22', 'page_name': 'Products', 'page_number': 1, 'text_as_html': '<table><tr><td>Product</td><td>Category</td><td>Price</td><td>Stock</td><td>Description</td></tr><tr><td>Laptop</td><td>Electronics</td><td>999.99</td><td>50</td><td>High-performance laptop with 16GB RAM and 512GB SSD</td></tr><tr><td>Mouse</td><td>Accessories</td><td>29.99</td><td>200</td><td>Wireless optical mouse with ergonomic design</td></tr><tr><td>Keyboard</td><td>Accessories</td><td>79.99</td><td>150</td><td>Mechanical keyboard with RGB backlighting</td></tr><tr><td>Monitor</td><td>Electronics</td><td>299.99</td><td>75</td><td>27-inch 4K monitor with HDR support</td></tr><tr><td>Webcam</td><td>Electronics</td><td>89.99</td><td>100</td><td>1080p webcam with noise cancellation</td></tr></table>', 'languages': ['eng'], 'filetype': 'application/vnd.openxmlformats-officedocument.spreadsheetml.sheet', 'category': 'Table', 'element_id': '6c3514d8bca67e1cbfa020192b595264'}, page_content='Product Category Price Stock Description Laptop Electronics 999.99 50 High-performance laptop with 16GB RAM and 512GB SSD Mouse Accessories 29.99 200 Wireless optical mouse with ergonomic design Keyboard Accessories 79.99 150 Mechanical keyboard with RGB backlighting Monitor Electronics 299.99 75 27-inch 4K monitor with HDR support Webcam Electronics 89.99 100 1080p webcam with noise cancellation'), Document(metadata={'source': 'data/structured_files/inventory.xlsx', 'file_directory': 'data/structured_files', 'filename': 'inventory.xlsx', 'last_modified': '2025-09-14T22:12:22', 'page_name': 'Summary', 'page_number': 2, 'text_as_html': '<table><tr><td>Category</td><td>Total_Items</td><td>Total_Value</td></tr><tr><td>Electronics</td><td>3</td><td>1389.97</td></tr><tr><td>Accessories</td><td>2</td><td>109.98</td></tr></table>', 'languages': ['eng'], 'filetype': 'application/vnd.openxmlformats-officedocument.spreadsheetml.sheet', 'category': 'Table', 'element_id': 'dcf57c06f0490353601c69aaefb62f83'}, page_content='Category Total_Items Total_Value Electronics 3 1389.97 Accessories 2 109.98')]\n"
     ]
    }
   ],
   "source": [
    "from langchain_community.document_loaders import UnstructuredExcelLoader\n",
    "# Method 2: UnstructuredExcelLoader\n",
    "print(\"\\n2️⃣ UnstructuredExcelLoader\")\n",
    "try:\n",
    "    excel_loader = UnstructuredExcelLoader(\n",
    "        'data/structured_files/inventory.xlsx',\n",
    "        mode=\"elements\"\n",
    "    )\n",
    "    unstructured_docs = excel_loader.load()\n",
    "    print(\"  ✅ Handles complex Excel features\")\n",
    "    print(\"  ✅ Preserves formatting info\")\n",
    "    print(\"  ❌ Requires unstructured library\")\n",
    "    print(f\"Length: {len(unstructured_docs)}\")\n",
    "    print(unstructured_docs)\n",
    "except Exception as e:\n",
    "    print(\"  ℹ️ Requires unstructured library with Excel support\")"
   ]
  }
 ],
 "metadata": {
  "kernelspec": {
   "display_name": ".venv",
   "language": "python",
   "name": "python3"
  },
  "language_info": {
   "codemirror_mode": {
    "name": "ipython",
    "version": 3
   },
   "file_extension": ".py",
   "mimetype": "text/x-python",
   "name": "python",
   "nbconvert_exporter": "python",
   "pygments_lexer": "ipython3",
   "version": "3.13.5"
  }
 },
 "nbformat": 4,
 "nbformat_minor": 5
}
