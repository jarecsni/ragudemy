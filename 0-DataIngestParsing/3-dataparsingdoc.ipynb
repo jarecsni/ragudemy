{
 "cells": [
  {
   "cell_type": "markdown",
   "id": "cde70f3e",
   "metadata": {},
   "source": [
    "### Word Document Processing"
   ]
  },
  {
   "cell_type": "code",
   "execution_count": null,
   "id": "7e47910d",
   "metadata": {},
   "outputs": [],
   "source": [
    "from langchain_community.document_loaders import Docx2txtLoader, UnstructuredWordDocumentLoader"
   ]
  },
  {
   "cell_type": "code",
   "execution_count": null,
   "id": "51eeda32",
   "metadata": {},
   "outputs": [],
   "source": [
    "## Method 1 - Using Docx2txtLoader\n",
    "print(\"Docx2txtLoader\")\n",
    "try:\n",
    "    loader = Docx2txtLoader(\"data/word_files/proposal.docx\")\n",
    "    docs = loader.load()\n",
    "    print(f\"Number of documents: {len(docs)}\")\n",
    "    print(f\"Content: {docs[0].page_content[:100]}\")\n",
    "    print(f\"Metadata: {docs[0].metadata}\")\n",
    "except Exception as e:\n",
    "    print(f\"Error with Docx2txtLoader: {e}\")"
   ]
  },
  {
   "cell_type": "code",
   "execution_count": null,
   "id": "0bed38c1",
   "metadata": {},
   "outputs": [],
   "source": [
    "## Method 2 - UnstructuredWordDocumentLoader\n",
    "print(\"UnstructuredWordDocumentLoader\")\n",
    "try:\n",
    "    loader = UnstructuredWordDocumentLoader(\"data/word_files/proposal.docx\",  mode=\"elements\")\n",
    "    docs = loader.load()\n",
    "    print(f\"Loaded {len(docs)} elements\")\n",
    "    for i, doc in enumerate(docs[:3]):\n",
    "        print(f\"Element {i}:\")\n",
    "        print(f\"   Type: {doc.metadata.get('category', 'unknown')}\")\n",
    "        print(f\"   Text: {doc.page_content[:100]}\")\n",
    "except Exception as e:\n",
    "    print(f\"Error with UnstructuredWordDocumentLoader: {e}\")"
   ]
  },
  {
   "cell_type": "code",
   "execution_count": null,
   "id": "1531d6db",
   "metadata": {},
   "outputs": [],
   "source": [
    "docs"
   ]
  }
 ],
 "metadata": {
  "kernelspec": {
   "display_name": ".venv",
   "language": "python",
   "name": "python3"
  },
  "language_info": {
   "codemirror_mode": {
    "name": "ipython",
    "version": 3
   },
   "file_extension": ".py",
   "mimetype": "text/x-python",
   "name": "python",
   "nbconvert_exporter": "python",
   "pygments_lexer": "ipython3",
   "version": "3.13.5"
  }
 },
 "nbformat": 4,
 "nbformat_minor": 5
}
