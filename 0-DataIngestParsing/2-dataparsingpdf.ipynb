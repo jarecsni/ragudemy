{
 "cells": [
  {
   "cell_type": "markdown",
   "id": "62c9b7b5",
   "metadata": {},
   "source": [
    "## Load PDFs"
   ]
  },
  {
   "cell_type": "code",
   "execution_count": 5,
   "id": "10fa3c84",
   "metadata": {},
   "outputs": [],
   "source": [
    "from langchain_community.document_loaders import (\n",
    "    PyPDFLoader,\n",
    "    PyMuPDFLoader,\n",
    "    UnstructuredPDFLoader,\n",
    ")"
   ]
  },
  {
   "cell_type": "code",
   "execution_count": null,
   "id": "677d3f4d",
   "metadata": {},
   "outputs": [
    {
     "name": "stdout",
     "output_type": "stream",
     "text": [
      "PyPDFLoader\n",
      "Number of documents: 185\n",
      "Content: The Little Book\n",
      "of\n",
      "Deep Learning\n",
      "François Fleuret\n",
      "Metadata: {'producer': 'LaTeX and TikZ', 'creator': 'pdflatex', 'creationdate': '2024-07-23T16:31:04+02:00', 'author': 'François Fleuret', 'title': 'The Little Book of Deep Learning', 'subject': 'A short introduction to deep learning for readers with a STEM background. It aims at providing the necessary context to understand key AI models for image generation and language processing.', 'keywords': 'deep learning,machine learning,computer vision,natural language processing', 'moddate': '2024-07-23T16:31:04+02:00', 'trapped': '/False', 'ptex.fullbanner': 'This is pdfTeX, Version 3.141592653-2.6-1.40.24 (TeX Live 2022/Debian) kpathsea version 6.3.4', 'source': 'data/pdf/lbdl.pdf', 'total_pages': 185, 'page': 1, 'page_label': '2'}\n"
     ]
    }
   ],
   "source": [
    "### PyPDFLoader\n",
    "print(\"PyPDFLoader\")\n",
    "try:\n",
    "    loader = PyPDFLoader(\"data/pdf/lbdl.pdf\")\n",
    "    docs = loader.load()\n",
    "    print(f\"Number of documents: {len(docs)}\")\n",
    "    print(f\"Content: {docs[0].page_content[:100]}\")\n",
    "    print(f\"Metadata: {docs[0].metadata}\")\n",
    "except Exception as e:\n",
    "    print(f\"Error with PyPDFLoader: {e}\")"
   ]
  },
  {
   "cell_type": "code",
   "execution_count": null,
   "id": "5778882c",
   "metadata": {},
   "outputs": [],
   "source": [
    "### PyMuPDFLoader\n",
    "print(\"PyMuPDFLoader\")\n",
    "try:\n",
    "    loader = PyMuPDFLoader(\"data/pdf/lbdl.pdf\")\n",
    "    docs = loader.load()\n",
    "    print(f\"Number of documents: {len(docs)}\")\n",
    "    print(f\"Content: {docs[0].page_content[:100]}\")\n",
    "    print(f\"Metadata: {docs[0].metadata}\")\n",
    "except Exception as e:\n",
    "    print(f\"Error with PyPDFLoader: {e}\")"
   ]
  }
 ],
 "metadata": {
  "kernelspec": {
   "display_name": ".venv",
   "language": "python",
   "name": "python3"
  },
  "language_info": {
   "codemirror_mode": {
    "name": "ipython",
    "version": 3
   },
   "file_extension": ".py",
   "mimetype": "text/x-python",
   "name": "python",
   "nbconvert_exporter": "python",
   "pygments_lexer": "ipython3",
   "version": "3.13.5"
  }
 },
 "nbformat": 4,
 "nbformat_minor": 5
}
