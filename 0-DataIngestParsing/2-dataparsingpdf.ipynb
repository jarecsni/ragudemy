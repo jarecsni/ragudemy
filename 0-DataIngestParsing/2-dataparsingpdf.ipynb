{
 "cells": [
  {
   "cell_type": "markdown",
   "id": "62c9b7b5",
   "metadata": {},
   "source": [
    "## Load PDFs"
   ]
  },
  {
   "cell_type": "code",
   "execution_count": 5,
   "id": "10fa3c84",
   "metadata": {},
   "outputs": [],
   "source": [
    "from langchain_community.document_loaders import (\n",
    "    PyPDFLoader,\n",
    "    PyMuPDFLoader,\n",
    "    UnstructuredPDFLoader,\n",
    ")"
   ]
  },
  {
   "cell_type": "code",
   "execution_count": 10,
   "id": "677d3f4d",
   "metadata": {},
   "outputs": [
    {
     "name": "stdout",
     "output_type": "stream",
     "text": [
      "PyPDFLoader\n",
      "Number of documents: 185\n",
      "Content: The Little Book\n",
      "of\n",
      "Deep Learning\n",
      "François Fleuret\n",
      "Metadata: {'producer': 'LaTeX and TikZ', 'creator': 'pdflatex', 'creationdate': '2024-07-23T16:31:04+02:00', 'author': 'François Fleuret', 'title': 'The Little Book of Deep Learning', 'subject': 'A short introduction to deep learning for readers with a STEM background. It aims at providing the necessary context to understand key AI models for image generation and language processing.', 'keywords': 'deep learning,machine learning,computer vision,natural language processing', 'moddate': '2024-07-23T16:31:04+02:00', 'trapped': '/False', 'ptex.fullbanner': 'This is pdfTeX, Version 3.141592653-2.6-1.40.24 (TeX Live 2022/Debian) kpathsea version 6.3.4', 'source': 'data/pdf/lbdl.pdf', 'total_pages': 185, 'page': 0, 'page_label': '1'}\n"
     ]
    }
   ],
   "source": [
    "### PyPDFLoader\n",
    "print(\"PyPDFLoader\")\n",
    "try:\n",
    "    loader = PyPDFLoader(\"data/pdf/lbdl.pdf\")\n",
    "    docs = loader.load()\n",
    "    print(f\"Number of documents: {len(docs)}\")\n",
    "    print(f\"Content: {docs[0].page_content[:100]}\")\n",
    "    print(f\"Metadata: {docs[0].metadata}\")\n",
    "except Exception as e:\n",
    "    print(f\"Error with PyPDFLoader: {e}\")"
   ]
  },
  {
   "cell_type": "code",
   "execution_count": null,
   "id": "5778882c",
   "metadata": {},
   "outputs": [],
   "source": [
    "### PyMuPDFLoader\n",
    "print(\"PyMuPDFLoader\")\n",
    "try:\n",
    "    loader = PyMuPDFLoader(\"data/pdf/lbdl.pdf\")\n",
    "    docs = loader.load()\n",
    "    print(f\"Number of documents: {len(docs)}\")\n",
    "    print(f\"Content: {docs[0].page_content[:100]}\")\n",
    "    print(f\"Metadata: {docs[0].metadata}\")\n",
    "except Exception as e:\n",
    "    print(f\"Error with PyPDFLoader: {e}\")"
   ]
  },
  {
   "cell_type": "code",
   "execution_count": 11,
   "id": "62dfdb01",
   "metadata": {},
   "outputs": [
    {
     "name": "stdout",
     "output_type": "stream",
     "text": [
      "Raw PDF Extraction\n",
      "BEFORE:\n",
      "'Company Financial Report\\n\\n    The financial performance for fiscal year 2024\\n    shows significant g'\n",
      "\n",
      "AFTER:\n",
      "'Company Financial Report The financial performance for fiscal year 2024 shows significant growth in '\n"
     ]
    }
   ],
   "source": [
    "### Example of raw pdf extraction\n",
    "print(\"Raw PDF Extraction\")\n",
    "raw_pdf_text = \"\"\"Company Financial Report\n",
    "\n",
    "    The financial performance for fiscal year 2024\n",
    "    shows significant growth in profitability.\n",
    "\n",
    "\n",
    "\n",
    "    Revenue increased by 25%.\n",
    "\n",
    "The company's efficiency improved due to workflow\n",
    "optimization.\n",
    "\n",
    "Page 1 of 10\n",
    "\"\"\"\n",
    "\n",
    "# Apply the cleaning function\n",
    "def clean_text(text):\n",
    "    # Remove excessive whitespace\n",
    "    text = \" \".join(text.split())\n",
    "    \n",
    "    # Fix ligatures\n",
    "    text = text.replace(\"ﬁ\", \"fi\")\n",
    "    text = text.replace(\"ﬂ\", \"fl\")\n",
    "    \n",
    "    return text\n",
    "\n",
    "cleaned = clean_text(raw_pdf_text)\n",
    "print(\"BEFORE:\")\n",
    "print(repr(raw_pdf_text[:100]))\n",
    "print(\"\\nAFTER:\")\n",
    "print(repr(cleaned[:100]))"
   ]
  },
  {
   "cell_type": "code",
   "execution_count": 13,
   "id": "0e9ce583",
   "metadata": {},
   "outputs": [],
   "source": [
    "from langchain_core.documents import Document\n",
    "from langchain_community.document_loaders import PyPDFLoader\n",
    "from langchain.text_splitter import RecursiveCharacterTextSplitter\n",
    "class SmartPDFProcessor:\n",
    "    \"\"\" Advanced PDF Processing with error handling\"\"\"\n",
    "    def __init__(self, chunk_size=1000, chunk_overlap=200):\n",
    "        self.chunk_size = chunk_size\n",
    "        self.chunk_overlap = chunk_overlap\n",
    "        self.text_splitter = RecursiveCharacterTextSplitter(\n",
    "            chunk_size=self.chunk_size,\n",
    "            chunk_overlap=self.chunk_overlap,\n",
    "            separators=[\" \"]\n",
    "        )\n",
    "    \n",
    "    def process_pdf(self, pdf_path:str) -> list[Document]:\n",
    "        \"\"\" Process PDF with smart chunking and metadata ehancement \"\"\"\n",
    "        loader = PyPDFLoader(pdf_path)\n",
    "        pages = loader.load()\n",
    "        # process each page\n",
    "        processed_chunks = []\n",
    "        for page_num, page in enumerate(pages):\n",
    "            # clean the text\n",
    "            cleaned_text = self.clean_text(page.page_content)\n",
    "            # skip nearly empty pages (not sure I agree)\n",
    "            if len(cleaned_text) < 50:\n",
    "                continue\n",
    "            \n",
    "            # Create chunks with enhanced metadata\n",
    "            chunks = self.text_splitter.create_documents(\n",
    "                texts=[cleaned_text],\n",
    "                metadatas=[{\n",
    "                    **page.metadata,\n",
    "                    \"page\": page_num + 1,\n",
    "                    \"total_pages\": len(pages),\n",
    "                    \"chunk_method\": \"smart_pdf_processor\",\n",
    "                    \"char_count\": len(cleaned_text)\n",
    "                }]\n",
    "            )\n",
    "            \n",
    "            processed_chunks.extend(chunks)\n",
    "        return processed_chunks\n",
    "            \n",
    "    def clean_text(self, text):\n",
    "        \"\"\" Clean the text \"\"\"\n",
    "        # Remove excessive whitespace\n",
    "        text = \" \".join(text.split())\n",
    "        \n",
    "        # Fix ligatures\n",
    "        text = text.replace(\"ﬁ\", \"fi\")\n",
    "        text = text.replace(\"ﬂ\", \"fl\")\n",
    "        \n",
    "        return text\n"
   ]
  },
  {
   "cell_type": "code",
   "execution_count": 18,
   "id": "7df86dba",
   "metadata": {},
   "outputs": [
    {
     "name": "stdout",
     "output_type": "stream",
     "text": [
      "Number of chunks: 302\n",
      "\n",
      "Sample chunk metadata\n",
      "producer: LaTeX and TikZ\n",
      "creator: pdflatex\n",
      "creationdate: 2024-07-23T16:31:04+02:00\n",
      "author: François Fleuret\n",
      "title: The Little Book of Deep Learning\n",
      "subject: A short introduction to deep learning for readers with a STEM background. It aims at providing the necessary context to understand key AI models for image generation and language processing.\n",
      "keywords: deep learning,machine learning,computer vision,natural language processing\n",
      "moddate: 2024-07-23T16:31:04+02:00\n",
      "trapped: /False\n",
      "ptex.fullbanner: This is pdfTeX, Version 3.141592653-2.6-1.40.24 (TeX Live 2022/Debian) kpathsea version 6.3.4\n",
      "source: data/pdf/lbdl.pdf\n",
      "total_pages: 185\n",
      "page: 120\n",
      "page_label: 120\n",
      "chunk_method: smart_pdf_processor\n",
      "char_count: 1191\n"
     ]
    }
   ],
   "source": [
    "processor = SmartPDFProcessor()\n",
    "try:\n",
    "    chunks = processor.process_pdf(\"data/pdf/lbdl.pdf\")\n",
    "    print(f\"Number of chunks: {len(chunks)}\")\n",
    "    if chunks:\n",
    "        print(\"\\nSample chunk metadata\")\n",
    "        for key, value in chunks[200].metadata.items():\n",
    "            print(f\"{key}: {value}\")\n",
    "    # print(f\"Content: {docs[0].page_content[:100]}\")\n",
    "    # print(f\"Metadata: {docs[0].metadata}\")\n",
    "except Exception as e:\n",
    "    print(f\"Error with PyPDFLoader: {e}\")"
   ]
  }
 ],
 "metadata": {
  "kernelspec": {
   "display_name": ".venv",
   "language": "python",
   "name": "python3"
  },
  "language_info": {
   "codemirror_mode": {
    "name": "ipython",
    "version": 3
   },
   "file_extension": ".py",
   "mimetype": "text/x-python",
   "name": "python",
   "nbconvert_exporter": "python",
   "pygments_lexer": "ipython3",
   "version": "3.13.5"
  }
 },
 "nbformat": 4,
 "nbformat_minor": 5
}
